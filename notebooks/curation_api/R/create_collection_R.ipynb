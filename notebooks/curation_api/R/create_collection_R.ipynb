{
 "cells": [
  {
   "cell_type": "markdown",
   "id": "c5490d93",
   "metadata": {},
   "source": [
    "# Create a new private Collection"
   ]
  },
  {
   "cell_type": "markdown",
   "id": "74560383",
   "metadata": {},
   "source": [
    "The script in this notebook creates a new private Collection.\n",
    "\n",
    "In order to use this script, you must have a Curation API key (obtained from upper-righthand dropdown in the Data Portal UI after logging in)."
   ]
  },
  {
   "cell_type": "markdown",
   "id": "928aa50e",
   "metadata": {},
   "source": [
    "#### <font color='#bc00b0'>Please fill in the required values:</font>"
   ]
  },
  {
   "cell_type": "markdown",
   "id": "2c9a0189",
   "metadata": {},
   "source": [
    "<font color='#bc00b0'>(Required) Provide the path to your api key file</font>"
   ]
  },
  {
   "cell_type": "code",
   "execution_count": 38,
   "id": "a4b6087b",
   "metadata": {},
   "outputs": [],
   "source": [
    "api_key_file <- \"path/to/api-key.txt\""
   ]
  },
  {
   "cell_type": "markdown",
   "id": "ce95a93a",
   "metadata": {},
   "source": [
    "<font color='#bc00b0'>(Required) Provide the Collection form metadata for your new Collection</font>"
   ]
  },
  {
   "cell_type": "code",
   "execution_count": null,
   "id": "c711049d",
   "metadata": {},
   "outputs": [],
   "source": [
    "collection_form_metadata <- list(\n",
    "  name = \"Name\",\n",
    "  description = \"A sample description\",\n",
    "  contact_name = \"First Last\",\n",
    "  contact_email = \"firstlast@email.com\",\n",
    "  links = list(\n",
    "      list(\n",
    "          link_name = \"sample protocol link\",\n",
    "          link_url = \"https://www.sample.link\",\n",
    "          link_type = \"PROTOCOL\"\n",
    "      ),\n",
    "      list(\n",
    "          link_name = \"sample lab website\",\n",
    "          link_url = \"https://www.lab.website\",\n",
    "          link_type = \"LAB_WEBSITE\"\n",
    "      )\n",
    "  )\n",
    ")"
   ]
  },
  {
   "cell_type": "markdown",
   "id": "edfb1272",
   "metadata": {},
   "source": [
    "### Import dependencies"
   ]
  },
  {
   "cell_type": "code",
   "execution_count": null,
   "id": "1cff472c",
   "metadata": {},
   "outputs": [],
   "source": [
    "source(\"src/utils/config.R\")\n",
    "source(\"src/collection.R\")"
   ]
  },
  {
   "cell_type": "markdown",
   "id": "285a1ca4",
   "metadata": {},
   "source": [
    "### Set url and access token env vars"
   ]
  },
  {
   "cell_type": "code",
   "execution_count": null,
   "id": "bea213f4",
   "metadata": {},
   "outputs": [],
   "source": [
    "set_api_urls()\n",
    "set_access_token(api_key_file_path)"
   ]
  },
  {
   "cell_type": "markdown",
   "id": "6085d322",
   "metadata": {},
   "source": [
    "### Create new private Collection"
   ]
  },
  {
   "cell_type": "code",
   "execution_count": null,
   "id": "cdcebae1",
   "metadata": {},
   "outputs": [],
   "source": [
    "create_collection(collection_form_metadata)"
   ]
  }
 ],
 "metadata": {
  "kernelspec": {
   "display_name": "R",
   "language": "R",
   "name": "ir"
  },
  "language_info": {
   "codemirror_mode": "r",
   "file_extension": ".r",
   "mimetype": "text/x-r-source",
   "name": "R",
   "pygments_lexer": "r",
   "version": "4.2.0"
  }
 },
 "nbformat": 4,
 "nbformat_minor": 5
}
